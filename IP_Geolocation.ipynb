{
 "cells": [
  {
   "cell_type": "code",
   "execution_count": 24,
   "id": "f1975234-b136-44a0-8a47-25ff90505dcf",
   "metadata": {},
   "outputs": [
    {
     "name": "stdout",
     "output_type": "stream",
     "text": [
      "The lat & long of the IP 154.6.84.10 is [38.9687, -77.3411], and the region is <[OK] Ipinfo - Geocode [Reston, Virginia, US]>\n"
     ]
    },
    {
     "name": "stderr",
     "output_type": "stream",
     "text": [
      "libva error: vaGetDriverNameByIndex() failed with unknown libva error, driver_name = (null)\n"
     ]
    },
    {
     "name": "stdout",
     "output_type": "stream",
     "text": [
      "Opening in existing browser session.\n"
     ]
    }
   ],
   "source": [
    "import geocoder\n",
    "import folium\n",
    "import webbrowser\n",
    "\n",
    "\n",
    "# Input IP address and assign to a variable\n",
    "\n",
    "IP = \"154.6.84.10\"\n",
    "g = geocoder.ip(\"154.6.84.10\")\n",
    "address = g.latlng\n",
    "\n",
    "def get_location():\n",
    "    \n",
    "    # Print lat & long, and region of IP address\n",
    "    print(f\"The lat & long of the IP {IP} is {address}, and the region is {g}\")\n",
    "    \n",
    "    \n",
    "    my_map = folium.Map(location = address, zoom_start = 15)\n",
    "    \n",
    "    \n",
    "    folium.CircleMarker(location = address, radius = 50, popup = 'Your Region').add_to(my_map)\n",
    "    \n",
    "    \n",
    "    my_map.save('my_map.html')\n",
    "    \n",
    "    \n",
    "    webbrowser.open_new_tab('my_map.html')\n",
    "    \n",
    "get_location()\n",
    "\n",
    "# \n",
    "\n",
    "# print(f\"The lat & long of the IP {IP} is {address}, and the region is {g}\")\n",
    "\n",
    "# # Create a map of the lat & long\n",
    "\n",
    "# my_map = folium.Map(location = address, zoom_start = 15)\n",
    "\n",
    "# # Create a concentrated area around location\n",
    "\n",
    "# folium.CircleMarker(location = address, radius = 50, popup = 'Your Region').add_to(my_map)\n",
    "\n",
    "# # Save information to html file & open to view\n",
    "\n",
    "# my_map.save('my_map.html')\n",
    "\n",
    "# webbrowser.open_new_tab('my_map.html')"
   ]
  },
  {
   "cell_type": "code",
   "execution_count": null,
   "id": "87056858-4139-448d-adf2-0adb9a21925e",
   "metadata": {},
   "outputs": [],
   "source": []
  }
 ],
 "metadata": {
  "kernelspec": {
   "display_name": "Python 3 (ipykernel)",
   "language": "python",
   "name": "python3"
  },
  "language_info": {
   "codemirror_mode": {
    "name": "ipython",
    "version": 3
   },
   "file_extension": ".py",
   "mimetype": "text/x-python",
   "name": "python",
   "nbconvert_exporter": "python",
   "pygments_lexer": "ipython3",
   "version": "3.9.13"
  }
 },
 "nbformat": 4,
 "nbformat_minor": 5
}
